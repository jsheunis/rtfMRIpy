{
 "cells": [
  {
   "cell_type": "markdown",
   "metadata": {},
   "source": [
    "## Background\n",
    "This notebook contains code to test multiple optimization options used by the `optimize` method of the [HistogramRegistration](http://nipy.org/nipy/api/generated/nipy.algorithms.registration.histogram_registration.html) class in `nipy`. The code is tested on resting state fMRI data downloaded from OpenNeuro. The goal is to estimate and apply a standard 6 degree of freedom rigid body transformation to 3D NIfTI data in order to realign an fMRI volume to a template."
   ]
  },
  {
   "cell_type": "markdown",
   "metadata": {},
   "source": [
    "## Imports"
   ]
  },
  {
   "cell_type": "code",
   "execution_count": 14,
   "metadata": {},
   "outputs": [],
   "source": [
    "import nibabel as nib\n",
    "import time\n",
    "import numpy as np\n",
    "from nipy.algorithms.registration import HistogramRegistration, Rigid, resample\n",
    "from nipy.io.api import save_image"
   ]
  },
  {
   "cell_type": "markdown",
   "metadata": {},
   "source": [
    "## Load/manipulate data\n",
    "A single run of a resting state fMRI dataset was downloaded from OpenNeuro. Here, we create separate 3D NIfTI files for the first volume and the 20th volume (arbitrarily selected) of the original timeseries. The first volume is used as the template for realignment. The 20th volume is the one that is to be realigned."
   ]
  },
  {
   "cell_type": "code",
   "execution_count": 7,
   "metadata": {},
   "outputs": [],
   "source": [
    "rs_fn = 'ds000256-download/sub-CTS200/func/sub-CTS200_task-restbaseline_bold.nii.gz'\n",
    "test_template_fn = 'bold_001.nii.gz'\n",
    "test_imgToRealign_fn = 'bold_020.nii.gz'\n",
    "rs_img = nib.load(rs_fn)\n",
    "rs_data = rs_img.get_fdata()\n",
    "\n",
    "template_nii = nib.nifti1.Nifti1Image(rs_data[:,:,:,0], rs_img.affine, rs_img.header)\n",
    "imgToRealign_nii = nib.nifti1.Nifti1Image(rs_data[:,:,:,19], rs_img.affine, rs_img.header)\n",
    "\n",
    "nib.save(template_nii, test_template_fn)\n",
    "nib.save(imgToRealign_nii, test_imgToRealign_fn)"
   ]
  },
  {
   "cell_type": "markdown",
   "metadata": {},
   "source": [
    "# Realignment testing script\n",
    "The `realignmentTest()` function loops through optimization methods `['powell', 'cg', 'bfgs', 'simplex']`, estimates realignment parameters for each, saves the realigned NIfTI file, and logs execution time.\n",
    "\n",
    "The `estimateMotion()` function does the actual rigid body transform estimation and registration.\n",
    "\n",
    "Code was adapted from [Jeff MacInnes's pyneal package](https://github.com/jeffmacinnes/pyneal/blob/master/src/pynealPreprocessing.py)"
   ]
  },
  {
   "cell_type": "code",
   "execution_count": 27,
   "metadata": {},
   "outputs": [
    {
     "name": "stdout",
     "output_type": "stream",
     "text": [
      "---------------\n",
      "Method 0 - powell:\n",
      "Initial guess...\n",
      "translation : [0. 0. 0.]\n",
      "rotation    : [0. 0. 0.]\n",
      "\n",
      "Optimizing using fmin_powell\n",
      "translation : [-0.30057813 -0.20767556  0.381966  ]\n",
      "rotation    : [0.00381966 0.01       0.01      ]\n",
      "\n",
      "crl1 = 0.9320968283414985\n",
      "\n",
      "Optimization terminated successfully.\n",
      "         Current function value: -0.932097\n",
      "         Iterations: 1\n",
      "         Function evaluations: 36\n",
      "---------------\n",
      "Method 1 - cg:\n",
      "Initial guess...\n",
      "translation : [0. 0. 0.]\n",
      "rotation    : [0. 0. 0.]\n",
      "\n",
      "Optimizing using fmin_cg\n",
      "Optimization terminated successfully.\n",
      "         Current function value: -0.923707\n",
      "         Iterations: 0\n",
      "         Function evaluations: 8\n",
      "         Gradient evaluations: 1\n"
     ]
    },
    {
     "name": "stderr",
     "output_type": "stream",
     "text": [
      "/Users/jheunis/miniconda3/envs/rtfmri-dev/lib/python3.7/site-packages/nipy/io/files.py:145: FutureWarning: Default `strict` currently False; this will change to True in a future version of nipy\n",
      "  ni_img = nipy2nifti(img, data_dtype = io_dtype)\n"
     ]
    },
    {
     "name": "stdout",
     "output_type": "stream",
     "text": [
      "---------------\n",
      "Method 2 - bfgs:\n",
      "Initial guess...\n",
      "translation : [0. 0. 0.]\n",
      "rotation    : [0. 0. 0.]\n",
      "\n",
      "Optimizing using fmin_bfgs\n",
      "Optimization terminated successfully.\n",
      "         Current function value: -0.923707\n",
      "         Iterations: 0\n",
      "         Function evaluations: 8\n",
      "         Gradient evaluations: 1\n",
      "---------------\n",
      "Method 3 - simplex:\n",
      "Initial guess...\n",
      "translation : [0. 0. 0.]\n",
      "rotation    : [0. 0. 0.]\n",
      "\n",
      "Optimizing using fmin\n",
      "Optimization terminated successfully.\n",
      "         Current function value: -0.923707\n",
      "         Iterations: 1\n",
      "         Function evaluations: 7\n",
      "---------------------\n",
      "Registration summary:\n",
      "---------------------\n",
      "\n",
      "Registration time per 'opt' method:\n",
      "[0.4186708927154541, 0.13682198524475098, 0.1139068603515625, 0.11966705322265625]\n",
      "\n",
      "Realignment params per 'opt' method:\n",
      "[[ 0.2188504   0.5729578   0.5729578  -0.30057813 -0.20767556  0.381966  ]\n",
      " [ 0.          0.          0.          0.          0.          0.        ]\n",
      " [ 0.          0.          0.          0.          0.          0.        ]\n",
      " [ 0.          0.          0.          0.          0.          0.        ]]\n"
     ]
    }
   ],
   "source": [
    "def realignmentTest():\n",
    "    # opt_methods = ['powell', 'steepest', 'cg', 'bfgs', 'simplex']\n",
    "    # 'steepest' fails for a reason that I have not investigated yet\n",
    "    opt_methods = ['powell', 'cg', 'bfgs', 'simplex']\n",
    "    opt_times = [None] * len(opt_methods)\n",
    "    mthd_params = np.empty((len(opt_methods), 6))\n",
    "    mthd_params[:] = None\n",
    "\n",
    "    # print(opt_times)\n",
    "    # print(mthd_params)\n",
    "\n",
    "    # Load images\n",
    "    niiRefVol = nib.load('bold_001.nii.gz')\n",
    "    niiVol = nib.load('bold_020.nii.gz')\n",
    "\n",
    "    for idx, mthd in enumerate(opt_methods):\n",
    "        print(\"---------------\")\n",
    "        print(\"Method {} - {}:\".format(idx, mthd))\n",
    "        start = time.time()\n",
    "        # Apply realignment\n",
    "        params, realignedVolume = estimateMotion(niiRefVol, niiVol, mthd)\n",
    "        end = time.time()\n",
    "        delta = end - start\n",
    "        opt_times[idx] = delta\n",
    "        mthd_params[idx, :] = params\n",
    "        # print(\"{} - {} registration time: {}\".format(idx, mthd, delta))\n",
    "        # Save the image as a new nii file (for testing purposes)\n",
    "        save_image(realignedVolume, 'test_' + mthd + '_bold_020.nii.gz')\n",
    "        \n",
    "    print(\"---------------------\")\n",
    "    print(\"Registration summary:\")\n",
    "    print(\"---------------------\")\n",
    "    \n",
    "    print(\"\\nRegistration time per 'opt' method:\\n{}\".format(opt_times))\n",
    "    print(\"\\nRealignment params per 'opt' method:\\n{}\".format(mthd_params))\n",
    "\n",
    "\n",
    "def estimateMotion(niiRefVol, niiVol, mthd):\n",
    "    \n",
    "    reg = HistogramRegistration(niiVol, niiRefVol, interp='tri')\n",
    "\n",
    "    # estimate optimal transformation\n",
    "    T = reg.optimize('rigid', optimizer=mthd)\n",
    "\n",
    "    # get the realignment parameters:\n",
    "    rot_x, rot_y, rot_z = np.rad2deg(T.rotation)\n",
    "    trans_x, trans_y, trans_z = T.translation\n",
    "\n",
    "    motionParams = np.array([rot_x, rot_y, rot_z, trans_x, trans_y, trans_z])\n",
    "\n",
    "    realignedVolume = resample(niiVol, T.inv(), niiRefVol)\n",
    "\n",
    "    return motionParams, realignedVolume\n",
    "\n",
    "realignmentTest()"
   ]
  },
  {
   "cell_type": "code",
   "execution_count": null,
   "metadata": {},
   "outputs": [],
   "source": []
  },
  {
   "cell_type": "code",
   "execution_count": null,
   "metadata": {},
   "outputs": [],
   "source": []
  }
 ],
 "metadata": {
  "kernelspec": {
   "display_name": "Python 3",
   "language": "python",
   "name": "python3"
  },
  "language_info": {
   "codemirror_mode": {
    "name": "ipython",
    "version": 3
   },
   "file_extension": ".py",
   "mimetype": "text/x-python",
   "name": "python",
   "nbconvert_exporter": "python",
   "pygments_lexer": "ipython3",
   "version": "3.7.3"
  }
 },
 "nbformat": 4,
 "nbformat_minor": 4
}
